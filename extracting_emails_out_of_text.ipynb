{
  "nbformat": 4,
  "nbformat_minor": 0,
  "metadata": {
    "colab": {
      "provenance": []
    },
    "kernelspec": {
      "name": "python3",
      "display_name": "Python 3"
    },
    "language_info": {
      "name": "python"
    }
  },
  "cells": [
    {
      "cell_type": "code",
      "execution_count": 1,
      "metadata": {
        "id": "pzQdSLNc9aFv"
      },
      "outputs": [],
      "source": [
        "text = \"\"\"The E-Book looks amazing and I would like a copy of it, here is my e-mail id - talha@gmail.com |\n",
        "        Hi, I am looking for a job in data science field, please send me the E-book and kindly suggest\n",
        "        how to move forward, thanks - talha_rauf@gmail.com\"\"\""
      ]
    },
    {
      "cell_type": "code",
      "source": [
        "import re"
      ],
      "metadata": {
        "id": "_NDWsG5c9ijn"
      },
      "execution_count": 2,
      "outputs": []
    },
    {
      "cell_type": "code",
      "source": [
        "re.findall(r\"([\\w.-]+@[\\w.-]+)\", text)"
      ],
      "metadata": {
        "colab": {
          "base_uri": "https://localhost:8080/"
        },
        "id": "yiqm0zv19lzp",
        "outputId": "73ff113e-1692-425f-bd8f-ffe596c83fc8"
      },
      "execution_count": 3,
      "outputs": [
        {
          "output_type": "execute_result",
          "data": {
            "text/plain": [
              "['talha@gmail.com', 'talha_rauf@gmail.com']"
            ]
          },
          "metadata": {},
          "execution_count": 3
        }
      ]
    },
    {
      "cell_type": "code",
      "source": [],
      "metadata": {
        "id": "akJUuUdI91Tm"
      },
      "execution_count": null,
      "outputs": []
    }
  ]
}